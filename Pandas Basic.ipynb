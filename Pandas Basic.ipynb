{
 "cells": [
  {
   "cell_type": "code",
   "execution_count": 11,
   "id": "68ec467a-3c6c-4ed3-87cf-7bccd89c487a",
   "metadata": {},
   "outputs": [],
   "source": [
    "import pandas as pd\n",
    "import numpy as np"
   ]
  },
  {
   "cell_type": "code",
   "execution_count": 12,
   "id": "16b1c189-b6bf-46b4-8249-0173e138ac7b",
   "metadata": {},
   "outputs": [],
   "source": [
    "dict1 = {\"Name\":[\"Tanush\",\"Shubh\",\"shreyansh\",\"Aryan\",\"Sharavand\",\"Hrishik\"],\n",
    "        \"Class\":[\"9th\",\"10th\",\"8th\",\"9th\",\"8th\",\"7th\"],\n",
    "         \"Section\":[\"D\",\"E\",\"c\",\"A\",\"B\",\"F\"],\n",
    "        \"Roll\":[\"9437\",\"10304\",\"9332\",\"8193\",\"9871\",\"6546\"]}"
   ]
  },
  {
   "cell_type": "code",
   "execution_count": 13,
   "id": "31cc37e9-fc86-4828-af5a-fa79b224d8f0",
   "metadata": {},
   "outputs": [
    {
     "name": "stdout",
     "output_type": "stream",
     "text": [
      "{'Name': ['Tanush', 'Shubh', 'shreyansh', 'Aryan', 'Sharavand', 'Hrishik'], 'Class': ['9th', '10th', '8th', '9th', '8th', '7th'], 'Section': ['D', 'E', 'c', 'A', 'B', 'F'], 'Roll': ['9437', '10304', '9332', '8193', '9871', '6546']}\n"
     ]
    }
   ],
   "source": [
    "print(dict1)"
   ]
  },
  {
   "cell_type": "code",
   "execution_count": 14,
   "id": "4366f517-1843-4a9b-9211-a7fe0f0bce85",
   "metadata": {},
   "outputs": [],
   "source": [
    "df = pd.DataFrame(dict1) #It is used to change data in excel sheet"
   ]
  },
  {
   "cell_type": "code",
   "execution_count": 15,
   "id": "97b347f4-7c3f-4688-b6f7-db9d7b8bcce9",
   "metadata": {},
   "outputs": [
    {
     "data": {
      "text/html": [
       "<div>\n",
       "<style scoped>\n",
       "    .dataframe tbody tr th:only-of-type {\n",
       "        vertical-align: middle;\n",
       "    }\n",
       "\n",
       "    .dataframe tbody tr th {\n",
       "        vertical-align: top;\n",
       "    }\n",
       "\n",
       "    .dataframe thead th {\n",
       "        text-align: right;\n",
       "    }\n",
       "</style>\n",
       "<table border=\"1\" class=\"dataframe\">\n",
       "  <thead>\n",
       "    <tr style=\"text-align: right;\">\n",
       "      <th></th>\n",
       "      <th>Name</th>\n",
       "      <th>Class</th>\n",
       "      <th>Section</th>\n",
       "      <th>Roll</th>\n",
       "    </tr>\n",
       "  </thead>\n",
       "  <tbody>\n",
       "    <tr>\n",
       "      <th>0</th>\n",
       "      <td>Tanush</td>\n",
       "      <td>9th</td>\n",
       "      <td>D</td>\n",
       "      <td>9437</td>\n",
       "    </tr>\n",
       "    <tr>\n",
       "      <th>1</th>\n",
       "      <td>Shubh</td>\n",
       "      <td>10th</td>\n",
       "      <td>E</td>\n",
       "      <td>10304</td>\n",
       "    </tr>\n",
       "    <tr>\n",
       "      <th>2</th>\n",
       "      <td>shreyansh</td>\n",
       "      <td>8th</td>\n",
       "      <td>c</td>\n",
       "      <td>9332</td>\n",
       "    </tr>\n",
       "    <tr>\n",
       "      <th>3</th>\n",
       "      <td>Aryan</td>\n",
       "      <td>9th</td>\n",
       "      <td>A</td>\n",
       "      <td>8193</td>\n",
       "    </tr>\n",
       "    <tr>\n",
       "      <th>4</th>\n",
       "      <td>Sharavand</td>\n",
       "      <td>8th</td>\n",
       "      <td>B</td>\n",
       "      <td>9871</td>\n",
       "    </tr>\n",
       "    <tr>\n",
       "      <th>5</th>\n",
       "      <td>Hrishik</td>\n",
       "      <td>7th</td>\n",
       "      <td>F</td>\n",
       "      <td>6546</td>\n",
       "    </tr>\n",
       "  </tbody>\n",
       "</table>\n",
       "</div>"
      ],
      "text/plain": [
       "        Name Class Section   Roll\n",
       "0     Tanush   9th       D   9437\n",
       "1      Shubh  10th       E  10304\n",
       "2  shreyansh   8th       c   9332\n",
       "3      Aryan   9th       A   8193\n",
       "4  Sharavand   8th       B   9871\n",
       "5    Hrishik   7th       F   6546"
      ]
     },
     "execution_count": 15,
     "metadata": {},
     "output_type": "execute_result"
    }
   ],
   "source": [
    "df"
   ]
  },
  {
   "cell_type": "code",
   "execution_count": 16,
   "id": "8dc9f0d2-5eb6-4ba0-b890-54a0962c0819",
   "metadata": {},
   "outputs": [],
   "source": [
    "df.to_csv('classroom') #To save the file"
   ]
  },
  {
   "cell_type": "code",
   "execution_count": 17,
   "id": "972b79f7-cbf5-4685-b325-7cacbd7f6e8c",
   "metadata": {},
   "outputs": [],
   "source": [
    "df.to_csv('classroom2',index=False) #Index = False is used so That You don't have any index"
   ]
  },
  {
   "cell_type": "code",
   "execution_count": 18,
   "id": "8c9cbcfe-8d7a-46aa-9317-b5724667bb01",
   "metadata": {},
   "outputs": [
    {
     "data": {
      "text/html": [
       "<div>\n",
       "<style scoped>\n",
       "    .dataframe tbody tr th:only-of-type {\n",
       "        vertical-align: middle;\n",
       "    }\n",
       "\n",
       "    .dataframe tbody tr th {\n",
       "        vertical-align: top;\n",
       "    }\n",
       "\n",
       "    .dataframe thead th {\n",
       "        text-align: right;\n",
       "    }\n",
       "</style>\n",
       "<table border=\"1\" class=\"dataframe\">\n",
       "  <thead>\n",
       "    <tr style=\"text-align: right;\">\n",
       "      <th></th>\n",
       "      <th>Name</th>\n",
       "      <th>Class</th>\n",
       "      <th>Section</th>\n",
       "      <th>Roll</th>\n",
       "    </tr>\n",
       "  </thead>\n",
       "  <tbody>\n",
       "    <tr>\n",
       "      <th>0</th>\n",
       "      <td>Tanush</td>\n",
       "      <td>9th</td>\n",
       "      <td>D</td>\n",
       "      <td>9437</td>\n",
       "    </tr>\n",
       "    <tr>\n",
       "      <th>1</th>\n",
       "      <td>Shubh</td>\n",
       "      <td>10th</td>\n",
       "      <td>E</td>\n",
       "      <td>10304</td>\n",
       "    </tr>\n",
       "  </tbody>\n",
       "</table>\n",
       "</div>"
      ],
      "text/plain": [
       "     Name Class Section   Roll\n",
       "0  Tanush   9th       D   9437\n",
       "1   Shubh  10th       E  10304"
      ]
     },
     "execution_count": 18,
     "metadata": {},
     "output_type": "execute_result"
    }
   ],
   "source": [
    "df.head(2)  # To print values from top"
   ]
  },
  {
   "cell_type": "code",
   "execution_count": 19,
   "id": "77fa7dd1-5dc9-450d-9ef5-681473372eaa",
   "metadata": {},
   "outputs": [
    {
     "data": {
      "text/html": [
       "<div>\n",
       "<style scoped>\n",
       "    .dataframe tbody tr th:only-of-type {\n",
       "        vertical-align: middle;\n",
       "    }\n",
       "\n",
       "    .dataframe tbody tr th {\n",
       "        vertical-align: top;\n",
       "    }\n",
       "\n",
       "    .dataframe thead th {\n",
       "        text-align: right;\n",
       "    }\n",
       "</style>\n",
       "<table border=\"1\" class=\"dataframe\">\n",
       "  <thead>\n",
       "    <tr style=\"text-align: right;\">\n",
       "      <th></th>\n",
       "      <th>Name</th>\n",
       "      <th>Class</th>\n",
       "      <th>Section</th>\n",
       "      <th>Roll</th>\n",
       "    </tr>\n",
       "  </thead>\n",
       "  <tbody>\n",
       "    <tr>\n",
       "      <th>4</th>\n",
       "      <td>Sharavand</td>\n",
       "      <td>8th</td>\n",
       "      <td>B</td>\n",
       "      <td>9871</td>\n",
       "    </tr>\n",
       "    <tr>\n",
       "      <th>5</th>\n",
       "      <td>Hrishik</td>\n",
       "      <td>7th</td>\n",
       "      <td>F</td>\n",
       "      <td>6546</td>\n",
       "    </tr>\n",
       "  </tbody>\n",
       "</table>\n",
       "</div>"
      ],
      "text/plain": [
       "        Name Class Section  Roll\n",
       "4  Sharavand   8th       B  9871\n",
       "5    Hrishik   7th       F  6546"
      ]
     },
     "execution_count": 19,
     "metadata": {},
     "output_type": "execute_result"
    }
   ],
   "source": [
    "df.tail(2)   # To print them from last"
   ]
  },
  {
   "cell_type": "code",
   "execution_count": 20,
   "id": "791e40b9-6ee4-44cf-9da8-df9f862da9f8",
   "metadata": {},
   "outputs": [
    {
     "data": {
      "text/html": [
       "<div>\n",
       "<style scoped>\n",
       "    .dataframe tbody tr th:only-of-type {\n",
       "        vertical-align: middle;\n",
       "    }\n",
       "\n",
       "    .dataframe tbody tr th {\n",
       "        vertical-align: top;\n",
       "    }\n",
       "\n",
       "    .dataframe thead th {\n",
       "        text-align: right;\n",
       "    }\n",
       "</style>\n",
       "<table border=\"1\" class=\"dataframe\">\n",
       "  <thead>\n",
       "    <tr style=\"text-align: right;\">\n",
       "      <th></th>\n",
       "      <th>Name</th>\n",
       "      <th>Class</th>\n",
       "      <th>Section</th>\n",
       "      <th>Roll</th>\n",
       "    </tr>\n",
       "  </thead>\n",
       "  <tbody>\n",
       "    <tr>\n",
       "      <th>count</th>\n",
       "      <td>6</td>\n",
       "      <td>6</td>\n",
       "      <td>6</td>\n",
       "      <td>6</td>\n",
       "    </tr>\n",
       "    <tr>\n",
       "      <th>unique</th>\n",
       "      <td>6</td>\n",
       "      <td>4</td>\n",
       "      <td>6</td>\n",
       "      <td>6</td>\n",
       "    </tr>\n",
       "    <tr>\n",
       "      <th>top</th>\n",
       "      <td>Aryan</td>\n",
       "      <td>9th</td>\n",
       "      <td>c</td>\n",
       "      <td>9332</td>\n",
       "    </tr>\n",
       "    <tr>\n",
       "      <th>freq</th>\n",
       "      <td>1</td>\n",
       "      <td>2</td>\n",
       "      <td>1</td>\n",
       "      <td>1</td>\n",
       "    </tr>\n",
       "  </tbody>\n",
       "</table>\n",
       "</div>"
      ],
      "text/plain": [
       "         Name Class Section  Roll\n",
       "count       6     6       6     6\n",
       "unique      6     4       6     6\n",
       "top     Aryan   9th       c  9332\n",
       "freq        1     2       1     1"
      ]
     },
     "execution_count": 20,
     "metadata": {},
     "output_type": "execute_result"
    }
   ],
   "source": [
    "df.describe()"
   ]
  },
  {
   "cell_type": "code",
   "execution_count": 25,
   "id": "032dd860-cc6f-4f17-8e0b-e67f069029ca",
   "metadata": {},
   "outputs": [],
   "source": [
    "dict1['Name'][0] = \"Fairy\"           #To Change the value of the data"
   ]
  },
  {
   "cell_type": "code",
   "execution_count": 26,
   "id": "52db5882-a1d3-4ba5-977a-f48d0e319225",
   "metadata": {},
   "outputs": [
    {
     "data": {
      "text/plain": [
       "{'Name': ['Fairy', 'Shubh', 'shreyansh', 'Aryan', 'Sharavand', 'Hrishik'],\n",
       " 'Class': ['9th', '10th', '8th', '9th', '8th', '7th'],\n",
       " 'Section': ['D', 'E', 'c', 'A', 'B', 'F'],\n",
       " 'Roll': ['9437', '10304', '9332', '8193', '9871', '6546']}"
      ]
     },
     "execution_count": 26,
     "metadata": {},
     "output_type": "execute_result"
    }
   ],
   "source": [
    "dict1"
   ]
  },
  {
   "cell_type": "code",
   "execution_count": null,
   "id": "aaab6ab0-7f5e-4c53-b0af-3336325fed19",
   "metadata": {},
   "outputs": [],
   "source": []
  },
  {
   "cell_type": "code",
   "execution_count": null,
   "id": "26c03624-4ae5-4506-84a4-71f4abae5941",
   "metadata": {},
   "outputs": [],
   "source": []
  }
 ],
 "metadata": {
  "kernelspec": {
   "display_name": "Python 3",
   "language": "python",
   "name": "python3"
  },
  "language_info": {
   "codemirror_mode": {
    "name": "ipython",
    "version": 3
   },
   "file_extension": ".py",
   "mimetype": "text/x-python",
   "name": "python",
   "nbconvert_exporter": "python",
   "pygments_lexer": "ipython3",
   "version": "3.8.5"
  }
 },
 "nbformat": 4,
 "nbformat_minor": 5
}
